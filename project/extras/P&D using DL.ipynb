{
 "cells": [
  {
   "cell_type": "code",
   "execution_count": null,
   "metadata": {
    "collapsed": true
   },
   "outputs": [],
   "source": [
    "# Implementation"
   ]
  },
  {
   "cell_type": "code",
   "execution_count": 4,
   "metadata": {
    "collapsed": false
   },
   "outputs": [],
   "source": [
    "# Import all modules\n",
    "\n",
    "import os\n",
    "import theano\n",
    "import random\n",
    "import pylab\n",
    "import pickle as pkl\n",
    "from PIL import Image\n",
    "import numpy as np\n",
    "import pandas as pd\n",
    "import matplotlib.pyplot as plt\n",
    "from lasagne import layers, updates\n",
    "from theano.tensor.nnet import softmax\n",
    "from nolearn.lasagne import NeuralNet, BatchIterator, visualize\n",
    "\n",
    "data_root = '../data/misc/mnist/'"
   ]
  },
  {
   "cell_type": "code",
   "execution_count": 5,
   "metadata": {
    "collapsed": false
   },
   "outputs": [],
   "source": [
    "# Load train and test set\n",
    "train = pd.read_csv(data_root + \"train.csv\")\n",
    "test = pd.read_csv(data_root + \"test.csv\")"
   ]
  },
  {
   "cell_type": "code",
   "execution_count": 6,
   "metadata": {
    "collapsed": false
   },
   "outputs": [
    {
     "data": {
      "image/png": "[encoded data removed]",
      "text/plain": [
       "<matplotlib.figure.Figure at 0x7f6d3f7b0d50>"
      ]
     },
     "metadata": {},
     "output_type": "display_data"
    }
   ],
   "source": [
    "# Visualizing Training Dataset\n",
    "%matplotlib inline\n",
    "i = random.randrange(0, 42000)\n",
    "img = np.asarray(train.ix[i, 1:])\n",
    "img = img.reshape(28, 28)\n",
    "pylab.imshow(img)\n",
    "pylab.gray(); pylab.axis('off')\n",
    "pylab.show()\n",
    "\n",
    "#print \"-----------------------------\"\n",
    "#print train.head(5)\n",
    "#print \"-----------------------------\"\n",
    "#print train.count()"
   ]
  },
  {
   "cell_type": "code",
   "execution_count": 7,
   "metadata": {
    "collapsed": true
   },
   "outputs": [],
   "source": [
    "# Preprocessing step\n",
    "# Normalizing image\n",
    "train_labels = train.ix[:, 0].values.astype(np.int32)\n",
    "train_images = train.ix[:, 1:].values.astype(np.float32)\n",
    "train_images /= train_images.std(axis = None)\n",
    "train_images -= train_images.mean()\n",
    "\n",
    "test_images = test.values.astype(np.float32)\n",
    "test_images /= test_images.std(axis = None)\n",
    "test_images -= test_images.mean()"
   ]
  },
  {
   "cell_type": "code",
   "execution_count": 8,
   "metadata": {
    "collapsed": false
   },
   "outputs": [],
   "source": [
    "# Setting architecture of NN\n",
    "net = NeuralNet(\n",
    "        layers = [\n",
    "            ('input', layers.InputLayer),\n",
    "            ('conv1', layers.Conv2DLayer),\n",
    "            ('pool1', layers.MaxPool2DLayer),\n",
    "            ('dropout1', layers.DropoutLayer),\n",
    "            ('conv2', layers.Conv2DLayer),\n",
    "            ('pool2', layers.MaxPool2DLayer),\n",
    "            ('dropout2', layers.DropoutLayer),\n",
    "            ('hidden3', layers.DenseLayer),\n",
    "            ('output', layers.DenseLayer),\n",
    "        ],\n",
    "    \n",
    "        input_shape = (None, 1, 28, 28),\n",
    "        conv1_num_filters = 5, conv1_filter_size = (5, 5),\n",
    "        pool1_pool_size = (2, 2),\n",
    "        dropout1_p = 0.2,\n",
    "        conv2_num_filters = 5, conv2_filter_size = (5, 5),\n",
    "        pool2_pool_size = (2, 2),\n",
    "        hidden3_num_units = 32,\n",
    "        output_num_units = 10, output_nonlinearity = softmax,\n",
    "    \n",
    "        batch_iterator_train = BatchIterator(batch_size = 150),\n",
    "        batch_iterator_test = BatchIterator(batch_size = 150),\n",
    "    \n",
    "        update = updates.adam,\n",
    "    \n",
    "        use_label_encoder = True,\n",
    "        regression = False,\n",
    "        max_epochs = 10,\n",
    "        verbose = 1,\n",
    "    )"
   ]
  },
  {
   "cell_type": "code",
   "execution_count": 9,
   "metadata": {
    "collapsed": false
   },
   "outputs": [],
   "source": [
    "# Reshape dataset to fit to NN\n",
    "X = train_images.reshape(-1, 1, 28, 28)\n",
    "y = train_labels\n",
    "\n",
    "test_x = test_images.reshape(-1, 1, 28, 28)"
   ]
  },
  {
   "cell_type": "code",
   "execution_count": 10,
   "metadata": {
    "collapsed": false
   },
   "outputs": [
    {
     "name": "stdout",
     "output_type": "stream",
     "text": [
      "# Neural Network with 3682 learnable parameters\n",
      "\n",
      "## Layer information\n",
      "\n",
      "  #  name      size\n",
      "---  --------  -------\n",
      "  0  input     1x28x28\n",
      "  1  conv1     5x24x24\n",
      "  2  pool1     5x12x12\n",
      "  3  dropout1  5x12x12\n",
      "  4  conv2     5x8x8\n",
      "  5  pool2     5x4x4\n",
      "  6  dropout2  5x4x4\n",
      "  7  hidden3   32\n",
      "  8  output    10\n",
      "\n",
      "  epoch    train loss    valid loss    train/val    valid acc  dur\n",
      "-------  ------------  ------------  -----------  -----------  ------\n",
      "      1       \u001b[36m1.60469\u001b[0m       \u001b[32m0.58678\u001b[0m      2.73474      0.83146  17.94s\n",
      "      2       \u001b[36m0.74371\u001b[0m       \u001b[32m0.32932\u001b[0m      2.25830      0.90784  17.88s\n",
      "      3       \u001b[36m0.59294\u001b[0m       \u001b[32m0.25892\u001b[0m      2.29003      0.92655  17.72s\n",
      "      4       \u001b[36m0.51195\u001b[0m       \u001b[32m0.22640\u001b[0m      2.26124      0.93708  17.44s\n",
      "      5       \u001b[36m0.46675\u001b[0m       \u001b[32m0.19256\u001b[0m      2.42393      0.94632  19.08s\n",
      "      6       \u001b[36m0.43818\u001b[0m       \u001b[32m0.17885\u001b[0m      2.45006      0.94468  20.33s\n",
      "      7       \u001b[36m0.41042\u001b[0m       \u001b[32m0.16523\u001b[0m      2.48396      0.95076  18.86s\n",
      "      8       \u001b[36m0.39638\u001b[0m       \u001b[32m0.16059\u001b[0m      2.46832      0.95310  17.54s\n",
      "      9       \u001b[36m0.38459\u001b[0m       \u001b[32m0.15023\u001b[0m      2.55999      0.95696  17.88s\n",
      "     10       \u001b[36m0.36555\u001b[0m       \u001b[32m0.14211\u001b[0m      2.57229      0.95719  17.46s\n"
     ]
    },
    {
     "name": "stderr",
     "output_type": "stream",
     "text": [
      "/home/faizy/src/lasagne/lasagne/layers/conv.py:489: UserWarning: The `image_shape` keyword argument to `tensor.nnet.conv2d` is deprecated, it has been renamed to `input_shape`.\n",
      "  border_mode=border_mode)\n"
     ]
    }
   ],
   "source": [
    "# Train NN\n",
    "net.fit(X, y);"
   ]
  },
  {
   "cell_type": "code",
   "execution_count": null,
   "metadata": {
    "collapsed": false
   },
   "outputs": [],
   "source": [
    "# Saving model\n",
    "with open('/home/faizy/model.pkl', 'wb') as f:\n",
    "    pkl.dump(net, f)\n",
    "    \n",
    "f.close()"
   ]
  },
  {
   "cell_type": "code",
   "execution_count": null,
   "metadata": {
    "collapsed": true
   },
   "outputs": [],
   "source": [
    "# Output prediction\n",
    "with open('/home/faizy/model.pkl', 'rb') as f:\n",
    "    net = pkl.load(f)\n",
    "\n",
    "f.close()"
   ]
  },
  {
   "cell_type": "code",
   "execution_count": 11,
   "metadata": {
    "collapsed": false
   },
   "outputs": [],
   "source": [
    "pred = net.predict(test_x)"
   ]
  },
  {
   "cell_type": "code",
   "execution_count": 17,
   "metadata": {
    "collapsed": false
   },
   "outputs": [
    {
     "data": {
      "image/png": "[encoded data removed]",
      "text/plain": [
       "<matplotlib.figure.Figure at 0x7f6d03b7d810>"
      ]
     },
     "metadata": {},
     "output_type": "display_data"
    },
    {
     "name": "stdout",
     "output_type": "stream",
     "text": [
      "--------------\n",
      "PREDICTION:  7\n"
     ]
    }
   ],
   "source": [
    "# Visualizing output\n",
    "%matplotlib inline\n",
    "i = random.randrange(0, 28000)\n",
    "img = np.asarray(test.ix[i])\n",
    "img = img.reshape(28, 28)\n",
    "pylab.imshow(img)\n",
    "pylab.gray(); pylab.axis('off')\n",
    "pylab.show()\n",
    "print '--------------'\n",
    "print 'PREDICTION: ', pred[i]"
   ]
  },
  {
   "cell_type": "code",
   "execution_count": 18,
   "metadata": {
    "collapsed": false
   },
   "outputs": [
    {
     "data": {
      "image/png": "[encoded data removed]",
      "text/plain": [
       "<matplotlib.figure.Figure at 0x7f6d038689d0>"
      ]
     },
     "metadata": {},
     "output_type": "display_data"
    }
   ],
   "source": [
    "visualize.plot_conv_weights(net.layers_['conv1'])"
   ]
  },
  {
   "cell_type": "code",
   "execution_count": 19,
   "metadata": {
    "collapsed": false
   },
   "outputs": [
    {
     "data": {
      "image/png": "[encoded data removed]",
      "text/plain": [
       "<matplotlib.figure.Figure at 0x7f6d03915ad0>"
      ]
     },
     "metadata": {},
     "output_type": "display_data"
    }
   ],
   "source": [
    "visualize.plot_conv_activity(net.layers_['conv1'], test_x[i:i+1, :, :, :])"
   ]
  },
  {
   "cell_type": "code",
   "execution_count": 20,
   "metadata": {
    "collapsed": false
   },
   "outputs": [
    {
     "data": {
      "image/png": "[encoded data removed]",
      "text/plain": [
       "<matplotlib.figure.Figure at 0x7f6d02ee6a50>"
      ]
     },
     "metadata": {},
     "output_type": "display_data"
    }
   ],
   "source": [
    "visualize.plot_conv_activity(net.layers_['conv2'], test_x[i:i+1, :, :, :])"
   ]
  },
  {
   "cell_type": "code",
   "execution_count": null,
   "metadata": {
    "collapsed": true
   },
   "outputs": [],
   "source": []
  }
 ],
 "metadata": {
  "kernelspec": {
   "display_name": "Python 2",
   "language": "python",
   "name": "python2"
  },
  "language_info": {
   "codemirror_mode": {
    "name": "ipython",
    "version": 2
   },
   "file_extension": ".py",
   "mimetype": "text/x-python",
   "name": "python",
   "nbconvert_exporter": "python",
   "pygments_lexer": "ipython2",
   "version": "2.7.11"
  }
 },
 "nbformat": 4,
 "nbformat_minor": 0
}
