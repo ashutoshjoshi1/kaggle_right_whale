{
 "cells": [
  {
   "cell_type": "code",
   "execution_count": 14,
   "metadata": {
    "collapsed": false
   },
   "outputs": [],
   "source": [
    "# Import modules\n",
    "%matplotlib inline\n",
    "\n",
    "import os\n",
    "import pylab\n",
    "import random\n",
    "import cPickle as pkl\n",
    "\n",
    "import numpy as np\n",
    "import pandas as pd\n",
    "from scipy.misc import imread, imresize\n",
    "\n",
    "from lasagne import layers, updates, nonlinearities\n",
    "from nolearn.lasagne import NeuralNet, BatchIterator, visualize\n",
    "\n",
    "data_dir = '../data/misc/mnist/'\n",
    "model_root= '../models'"
   ]
  },
  {
   "cell_type": "code",
   "execution_count": 15,
   "metadata": {
    "collapsed": false
   },
   "outputs": [],
   "source": [
    "# Load train and test set\n",
    "train = pd.read_csv(data_dir + \"train.csv\")\n",
    "test = pd.read_csv(data_dir + \"test.csv\")"
   ]
  },
  {
   "cell_type": "code",
   "execution_count": 16,
   "metadata": {
    "collapsed": false
   },
   "outputs": [
    {
     "data": {
      "image/png": "[encoded data removed]",
      "text/plain": [
       "<matplotlib.figure.Figure at 0x7f96acbb1310>"
      ]
     },
     "metadata": {},
     "output_type": "display_data"
    }
   ],
   "source": [
    "# Visualizing Training Dataset\n",
    "\n",
    "i = random.randrange(0, train.shape[0])\n",
    "img = np.asarray(train.ix[i, 1:])\n",
    "img = img.reshape(28, 28)\n",
    "\n",
    "pylab.imshow(img)\n",
    "pylab.gray(); pylab.axis('off')\n",
    "pylab.show()\n",
    "\n",
    "#print \"-----------------------------\"\n",
    "#print train.head(5)\n",
    "#print \"-----------------------------\"\n",
    "#print train.count()"
   ]
  },
  {
   "cell_type": "code",
   "execution_count": 17,
   "metadata": {
    "collapsed": true
   },
   "outputs": [],
   "source": [
    "# Preprocessing step\n",
    "# Normalizing image\n",
    "train_labels = train.ix[:, 0].values.astype(np.int32)\n",
    "train_images = train.ix[:, 1:].values.astype(np.float32)\n",
    "train_images /= train_images.std(axis = None)\n",
    "train_images -= train_images.mean()\n",
    "\n",
    "test_images = test.values.astype(np.float32)\n",
    "test_images /= test_images.std(axis = None)\n",
    "test_images -= test_images.mean()"
   ]
  },
  {
   "cell_type": "code",
   "execution_count": 18,
   "metadata": {
    "collapsed": false
   },
   "outputs": [],
   "source": [
    "# Reshape dataset to fit to NN\n",
    "X = train_images.reshape(-1, 1, 28, 28)\n",
    "y = train_labels\n",
    "\n",
    "test_x = test_images.reshape(-1, 1, 28, 28)"
   ]
  },
  {
   "cell_type": "code",
   "execution_count": 19,
   "metadata": {
    "collapsed": false
   },
   "outputs": [],
   "source": [
    "# Setting architecture of NN\n",
    "net = NeuralNet(\n",
    "        layers = [\n",
    "            ('input', layers.InputLayer),\n",
    "            ('conv1', layers.Conv2DLayer),\n",
    "            ('pool1', layers.MaxPool2DLayer),\n",
    "            ('dropout1', layers.DropoutLayer),\n",
    "            ('conv2', layers.Conv2DLayer),\n",
    "            ('pool2', layers.MaxPool2DLayer),\n",
    "            ('dropout2', layers.DropoutLayer),\n",
    "            ('conv3', layers.Conv2DLayer),\n",
    "            ('output', layers.DenseLayer),\n",
    "        ],\n",
    "    \n",
    "        input_shape = (None, 1, 28, 28),\n",
    "        conv1_num_filters = 32, conv1_filter_size = (5, 5),\n",
    "        pool1_pool_size = (2, 2),\n",
    "        dropout1_p = 0.2,\n",
    "        conv2_num_filters = 32, conv2_filter_size = (5, 5),\n",
    "        pool2_pool_size = (2, 2),\n",
    "        conv3_num_filters = 32, conv3_filter_size = (4, 4),\n",
    "        output_num_units = 10, output_nonlinearity = nonlinearities.softmax,\n",
    "    \n",
    "        batch_iterator_train = BatchIterator(batch_size = 150),\n",
    "        batch_iterator_test = BatchIterator(batch_size = 150),\n",
    "    \n",
    "        update = updates.adam,\n",
    "    \n",
    "        use_label_encoder = True,\n",
    "        regression = False,\n",
    "        max_epochs = 20,\n",
    "        verbose = 1,\n",
    "    )"
   ]
  },
  {
   "cell_type": "code",
   "execution_count": 20,
   "metadata": {
    "collapsed": false
   },
   "outputs": [
    {
     "name": "stdout",
     "output_type": "stream",
     "text": [
      "# Neural Network with 43210 learnable parameters\n",
      "\n",
      "## Layer information\n",
      "\n",
      "  #  name      size\n",
      "---  --------  --------\n",
      "  0  input     1x28x28\n",
      "  1  conv1     32x24x24\n",
      "  2  pool1     32x12x12\n",
      "  3  dropout1  32x12x12\n",
      "  4  conv2     32x8x8\n",
      "  5  pool2     32x4x4\n",
      "  6  dropout2  32x4x4\n",
      "  7  conv3     32x1x1\n",
      "  8  output    10\n",
      "\n",
      "  epoch    train loss    valid loss    train/val    valid acc  dur\n",
      "-------  ------------  ------------  -----------  -----------  -----\n",
      "      1       \u001b[36m0.58290\u001b[0m       \u001b[32m0.10830\u001b[0m      5.38238      0.96877  1.37s\n",
      "      2       \u001b[36m0.13649\u001b[0m       \u001b[32m0.06905\u001b[0m      1.97674      0.97871  1.34s\n",
      "      3       \u001b[36m0.10079\u001b[0m       \u001b[32m0.05226\u001b[0m      1.92872      0.98222  1.32s\n",
      "      4       \u001b[36m0.08390\u001b[0m       \u001b[32m0.04656\u001b[0m      1.80193      0.98468  1.31s\n",
      "      5       \u001b[36m0.07452\u001b[0m       \u001b[32m0.04059\u001b[0m      1.83615      0.98690  1.31s\n",
      "      6       \u001b[36m0.06719\u001b[0m       \u001b[32m0.03847\u001b[0m      1.74683      0.98713  1.31s\n",
      "      7       \u001b[36m0.06005\u001b[0m       \u001b[32m0.03475\u001b[0m      1.72787      0.98854  1.32s\n",
      "      8       \u001b[36m0.05771\u001b[0m       \u001b[32m0.03435\u001b[0m      1.68009      0.98959  1.31s\n",
      "      9       \u001b[36m0.05515\u001b[0m       \u001b[32m0.03383\u001b[0m      1.63013      0.98889  1.31s\n",
      "     10       \u001b[36m0.05072\u001b[0m       \u001b[32m0.03231\u001b[0m      1.56967      0.98959  1.32s\n",
      "     11       \u001b[36m0.04632\u001b[0m       \u001b[32m0.02970\u001b[0m      1.55961      0.99076  1.31s\n",
      "     12       \u001b[36m0.04520\u001b[0m       \u001b[32m0.02962\u001b[0m      1.52585      0.98971  1.31s\n",
      "     13       \u001b[36m0.04410\u001b[0m       \u001b[32m0.02756\u001b[0m      1.60050      0.99029  1.31s\n",
      "     14       \u001b[36m0.04322\u001b[0m       0.03029      1.42662      0.98924  1.32s\n",
      "     15       \u001b[36m0.04297\u001b[0m       0.02823      1.52211      0.99041  1.31s\n",
      "     16       \u001b[36m0.03790\u001b[0m       0.02756      1.37510      0.99123  1.31s\n",
      "     17       0.03900       \u001b[32m0.02675\u001b[0m      1.45805      0.99099  1.32s\n",
      "     18       0.03847       0.02711      1.41899      0.99146  1.31s\n",
      "     19       \u001b[36m0.03569\u001b[0m       0.02857      1.24912      0.99158  1.32s\n",
      "     20       \u001b[36m0.03467\u001b[0m       0.02741      1.26477      0.99041  1.32s\n"
     ]
    }
   ],
   "source": [
    "# Train NN\n",
    "net.fit(X, y);"
   ]
  },
  {
   "cell_type": "code",
   "execution_count": 21,
   "metadata": {
    "collapsed": false
   },
   "outputs": [],
   "source": [
    "# Save model\n",
    "with open(os.path.join(model_root, 'toy_classifier_model.pkl'), 'wb') as f:\n",
    "    pkl.dump(net, f, -1)\n",
    "\n",
    "f.close()"
   ]
  },
  {
   "cell_type": "code",
   "execution_count": 22,
   "metadata": {
    "collapsed": false
   },
   "outputs": [],
   "source": [
    "# load model\n",
    "with open(os.path.join(model_root, 'toy_classifier_model.pkl'), 'rb') as f:\n",
    "    net = pkl.load(f)\n",
    "\n",
    "f.close()"
   ]
  },
  {
   "cell_type": "code",
   "execution_count": 23,
   "metadata": {
    "collapsed": false
   },
   "outputs": [],
   "source": [
    "pred = net.predict(test_x)"
   ]
  },
  {
   "cell_type": "code",
   "execution_count": 24,
   "metadata": {
    "collapsed": false
   },
   "outputs": [
    {
     "data": {
      "image/png": "[encoded data removed]",
      "text/plain": [
       "<matplotlib.figure.Figure at 0x7f96a3e0dc50>"
      ]
     },
     "metadata": {},
     "output_type": "display_data"
    },
    {
     "name": "stdout",
     "output_type": "stream",
     "text": [
      "--------------\n",
      "PREDICTION:  1\n"
     ]
    }
   ],
   "source": [
    "# Visualizing output\n",
    "%matplotlib inline\n",
    "i = random.randrange(0, 28000)\n",
    "img = np.asarray(test.ix[i])\n",
    "img = img.reshape(28, 28)\n",
    "pylab.imshow(img)\n",
    "pylab.gray(); pylab.axis('off')\n",
    "pylab.show()\n",
    "print '--------------'\n",
    "print 'PREDICTION: ', pred[i]"
   ]
  },
  {
   "cell_type": "code",
   "execution_count": 25,
   "metadata": {
    "collapsed": false
   },
   "outputs": [
    {
     "data": {
      "text/plain": [
       "<module 'matplotlib.pyplot' from '/home/cuda/anaconda2/lib/python2.7/site-packages/matplotlib/pyplot.pyc'>"
      ]
     },
     "execution_count": 25,
     "metadata": {},
     "output_type": "execute_result"
    },
    {
     "data": {
      "image/png": "[encoded data removed]",
      "text/plain": [
       "<matplotlib.figure.Figure at 0x7f96a36684d0>"
      ]
     },
     "metadata": {},
     "output_type": "display_data"
    }
   ],
   "source": [
    "#visualize layer 1 weights\n",
    "visualize.plot_conv_weights(net.layers_['conv1'])"
   ]
  },
  {
   "cell_type": "code",
   "execution_count": 26,
   "metadata": {
    "collapsed": false
   },
   "outputs": [
    {
     "data": {
      "text/plain": [
       "<module 'matplotlib.pyplot' from '/home/cuda/anaconda2/lib/python2.7/site-packages/matplotlib/pyplot.pyc'>"
      ]
     },
     "execution_count": 26,
     "metadata": {},
     "output_type": "execute_result"
    },
    {
     "data": {
      "image/png": "[encoded data removed]",
      "text/plain": [
       "<matplotlib.figure.Figure at 0x7f96a363a750>"
      ]
     },
     "metadata": {},
     "output_type": "display_data"
    }
   ],
   "source": [
    "visualize.plot_conv_activity(net.layers_['conv1'], test_x[i:i+1, :, :, :])"
   ]
  },
  {
   "cell_type": "code",
   "execution_count": null,
   "metadata": {
    "collapsed": true
   },
   "outputs": [],
   "source": []
  }
 ],
 "metadata": {
  "kernelspec": {
   "display_name": "Python 2",
   "language": "python",
   "name": "python2"
  },
  "language_info": {
   "codemirror_mode": {
    "name": "ipython",
    "version": 2
   },
   "file_extension": ".py",
   "mimetype": "text/x-python",
   "name": "python",
   "nbconvert_exporter": "python",
   "pygments_lexer": "ipython2",
   "version": "2.7.11"
  }
 },
 "nbformat": 4,
 "nbformat_minor": 0
}
