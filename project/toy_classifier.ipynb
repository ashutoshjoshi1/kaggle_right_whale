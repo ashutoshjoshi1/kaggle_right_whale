{
 "cells": [
  {
   "cell_type": "code",
   "execution_count": 1,
   "metadata": {
    "collapsed": false
   },
   "outputs": [
    {
     "name": "stderr",
     "output_type": "stream",
     "text": [
      "Using gpu device 0: GeForce GTX TITAN X (CNMeM is disabled)\n"
     ]
    }
   ],
   "source": [
    "# import modules\n",
    "%matplotlib inline\n",
    "\n",
    "import os\n",
    "import pylab\n",
    "import random\n",
    "import cPickle as pkl\n",
    "\n",
    "import numpy as np\n",
    "import pandas as pd\n",
    "from scipy.misc import imread, imresize\n",
    "\n",
    "from lasagne import layers, updates, nonlinearities\n",
    "from nolearn.lasagne import NeuralNet, BatchIterator, visualize\n",
    "\n",
    "data_dir = '../data/misc/mnist/'\n",
    "model_root= '../models'"
   ]
  },
  {
   "cell_type": "code",
   "execution_count": 2,
   "metadata": {
    "collapsed": false
   },
   "outputs": [],
   "source": [
    "# Load train and test set\n",
    "train = pd.read_csv(data_dir + \"train.csv\")\n",
    "test = pd.read_csv(data_dir + \"test.csv\")"
   ]
  },
  {
   "cell_type": "code",
   "execution_count": 3,
   "metadata": {
    "collapsed": false
   },
   "outputs": [
    {
     "data": {
      "image/png": "[encoded data removed]",
      "text/plain": [
       "<matplotlib.figure.Figure at 0x7f8f8c0ba290>"
      ]
     },
     "metadata": {},
     "output_type": "display_data"
    }
   ],
   "source": [
    "# Visualizing Training Dataset\n",
    "\n",
    "i = random.randrange(0, train.shape[0])\n",
    "img = np.asarray(train.ix[i, 1:])\n",
    "img = img.reshape(28, 28)\n",
    "\n",
    "pylab.imshow(img)\n",
    "pylab.gray(); pylab.axis('off')\n",
    "pylab.show()\n",
    "\n",
    "#print \"-----------------------------\"\n",
    "#print train.head(5)\n",
    "#print \"-----------------------------\"\n",
    "#print train.count()"
   ]
  },
  {
   "cell_type": "code",
   "execution_count": 4,
   "metadata": {
    "collapsed": true
   },
   "outputs": [],
   "source": [
    "# Preprocessing step\n",
    "# Normalizing image\n",
    "train_labels = train.ix[:, 0].values.astype(np.int32)\n",
    "train_images = train.ix[:, 1:].values.astype(np.float32)\n",
    "train_images /= train_images.std(axis = None)\n",
    "train_images -= train_images.mean()\n",
    "\n",
    "test_images = test.values.astype(np.float32)\n",
    "test_images /= test_images.std(axis = None)\n",
    "test_images -= test_images.mean()"
   ]
  },
  {
   "cell_type": "code",
   "execution_count": 5,
   "metadata": {
    "collapsed": false
   },
   "outputs": [],
   "source": [
    "# Reshape dataset to fit to NN\n",
    "X = train_images.reshape(-1, 1, 28, 28)\n",
    "y = train_labels\n",
    "\n",
    "test_x = test_images.reshape(-1, 1, 28, 28)"
   ]
  },
  {
   "cell_type": "code",
   "execution_count": 9,
   "metadata": {
    "collapsed": false
   },
   "outputs": [],
   "source": [
    "# Setting architecture of NN\n",
    "net = NeuralNet(\n",
    "        layers = [\n",
    "            ('input', layers.InputLayer),\n",
    "            ('conv1', layers.Conv2DLayer),\n",
    "            ('pool1', layers.MaxPool2DLayer),\n",
    "            ('dropout1', layers.DropoutLayer),\n",
    "            ('conv2', layers.Conv2DLayer),\n",
    "            ('pool2', layers.MaxPool2DLayer),\n",
    "            ('dropout2', layers.DropoutLayer),\n",
    "            ('conv3', layers.Conv2DLayer),\n",
    "            ('output', layers.DenseLayer),\n",
    "        ],\n",
    "    \n",
    "        input_shape = (None, 1, 28, 28),\n",
    "        conv1_num_filters = 32, conv1_filter_size = (5, 5),\n",
    "        pool1_pool_size = (2, 2),\n",
    "        dropout1_p = 0.2,\n",
    "        conv2_num_filters = 32, conv2_filter_size = (5, 5),\n",
    "        pool2_pool_size = (2, 2),\n",
    "        conv3_num_filters = 32, conv3_filter_size = (4, 4),\n",
    "        output_num_units = 10, output_nonlinearity = nonlinearities.softmax,\n",
    "    \n",
    "        batch_iterator_train = BatchIterator(batch_size = 150),\n",
    "        batch_iterator_test = BatchIterator(batch_size = 150),\n",
    "    \n",
    "        update = updates.adam,\n",
    "    \n",
    "        use_label_encoder = True,\n",
    "        regression = False,\n",
    "        max_epochs = 20,\n",
    "        verbose = 1,\n",
    "    )"
   ]
  },
  {
   "cell_type": "code",
   "execution_count": 10,
   "metadata": {
    "collapsed": false
   },
   "outputs": [
    {
     "name": "stdout",
     "output_type": "stream",
     "text": [
      "# Neural Network with 43210 learnable parameters\n",
      "\n",
      "## Layer information\n",
      "\n",
      "  #  name      size\n",
      "---  --------  --------\n",
      "  0  input     1x28x28\n",
      "  1  conv1     32x24x24\n",
      "  2  pool1     32x12x12\n",
      "  3  dropout1  32x12x12\n",
      "  4  conv2     32x8x8\n",
      "  5  pool2     32x4x4\n",
      "  6  dropout2  32x4x4\n",
      "  7  conv3     32x1x1\n",
      "  8  output    10\n",
      "\n",
      "  epoch    train loss    valid loss    train/val    valid acc  dur\n",
      "-------  ------------  ------------  -----------  -----------  -----\n",
      "      1       \u001b[36m0.58549\u001b[0m       \u001b[32m0.10941\u001b[0m      5.35119      0.96795  1.36s\n",
      "      2       \u001b[36m0.14500\u001b[0m       \u001b[32m0.07100\u001b[0m      2.04207      0.97825  1.34s\n",
      "      3       \u001b[36m0.10375\u001b[0m       \u001b[32m0.05273\u001b[0m      1.96748      0.98304  1.32s\n",
      "      4       \u001b[36m0.08699\u001b[0m       \u001b[32m0.04639\u001b[0m      1.87515      0.98515  1.30s\n",
      "      5       \u001b[36m0.07288\u001b[0m       \u001b[32m0.04072\u001b[0m      1.78967      0.98573  1.31s\n",
      "      6       \u001b[36m0.06552\u001b[0m       \u001b[32m0.03874\u001b[0m      1.69110      0.98632  1.32s\n",
      "      7       \u001b[36m0.06094\u001b[0m       \u001b[32m0.03587\u001b[0m      1.69916      0.98842  1.31s\n",
      "      8       \u001b[36m0.05807\u001b[0m       0.03725      1.55882      0.98807  1.31s\n",
      "      9       \u001b[36m0.05296\u001b[0m       \u001b[32m0.03579\u001b[0m      1.47964      0.98854  1.31s\n",
      "     10       \u001b[36m0.05192\u001b[0m       \u001b[32m0.03220\u001b[0m      1.61256      0.98947  1.32s\n",
      "     11       \u001b[36m0.04825\u001b[0m       0.03393      1.42199      0.98947  1.32s\n",
      "     12       \u001b[36m0.04752\u001b[0m       0.03291      1.44375      0.98924  1.30s\n",
      "     13       \u001b[36m0.04258\u001b[0m       0.03241      1.31363      0.99018  1.31s\n",
      "     14       \u001b[36m0.04157\u001b[0m       \u001b[32m0.03076\u001b[0m      1.35157      0.98936  1.30s\n",
      "     15       0.04211       0.03179      1.32438      0.98889  1.31s\n",
      "     16       \u001b[36m0.03784\u001b[0m       0.03232      1.17083      0.98971  1.31s\n",
      "     17       \u001b[36m0.03711\u001b[0m       0.03115      1.19123      0.98971  1.31s\n",
      "     18       \u001b[36m0.03630\u001b[0m       0.03201      1.13382      0.98994  1.32s\n",
      "     19       0.03759       0.03077      1.22175      0.99029  1.31s\n",
      "     20       \u001b[36m0.03288\u001b[0m       \u001b[32m0.03013\u001b[0m      1.09125      0.98971  1.32s\n"
     ]
    }
   ],
   "source": [
    "# Train NN\n",
    "net.fit(X, y);"
   ]
  },
  {
   "cell_type": "code",
   "execution_count": 11,
   "metadata": {
    "collapsed": false
   },
   "outputs": [],
   "source": [
    "# Saving model\n",
    "with open(os.path.join(model_root, 'toy_classifier_model.pkl'), 'wb') as f:\n",
    "    pkl.dump(net, f, -1)\n",
    "\n",
    "f.close()"
   ]
  },
  {
   "cell_type": "code",
   "execution_count": 12,
   "metadata": {
    "collapsed": false
   },
   "outputs": [],
   "source": [
    "# load model\n",
    "with open(os.path.join(model_root, 'toy_classifier_model.pkl'), 'rb') as f:\n",
    "    net = pkl.load(f)\n",
    "\n",
    "f.close()"
   ]
  },
  {
   "cell_type": "code",
   "execution_count": 13,
   "metadata": {
    "collapsed": false
   },
   "outputs": [],
   "source": [
    "pred = net.predict(test_x)"
   ]
  },
  {
   "cell_type": "code",
   "execution_count": 14,
   "metadata": {
    "collapsed": false
   },
   "outputs": [
    {
     "data": {
      "image/png": "[encoded data removed]",
      "text/plain": [
       "<matplotlib.figure.Figure at 0x7f8f0324d810>"
      ]
     },
     "metadata": {},
     "output_type": "display_data"
    },
    {
     "name": "stdout",
     "output_type": "stream",
     "text": [
      "--------------\n",
      "PREDICTION:  2\n"
     ]
    }
   ],
   "source": [
    "# Visualizing output\n",
    "%matplotlib inline\n",
    "i = random.randrange(0, 28000)\n",
    "img = np.asarray(test.ix[i])\n",
    "img = img.reshape(28, 28)\n",
    "pylab.imshow(img)\n",
    "pylab.gray(); pylab.axis('off')\n",
    "pylab.show()\n",
    "print '--------------'\n",
    "print 'PREDICTION: ', pred[i]"
   ]
  },
  {
   "cell_type": "code",
   "execution_count": 15,
   "metadata": {
    "collapsed": false
   },
   "outputs": [
    {
     "data": {
      "text/plain": [
       "<module 'matplotlib.pyplot' from '/home/cuda/anaconda2/lib/python2.7/site-packages/matplotlib/pyplot.pyc'>"
      ]
     },
     "execution_count": 15,
     "metadata": {},
     "output_type": "execute_result"
    },
    {
     "data": {
      "image/png": "[encoded data removed]",
      "text/plain": [
       "<matplotlib.figure.Figure at 0x7f8f033077d0>"
      ]
     },
     "metadata": {},
     "output_type": "display_data"
    }
   ],
   "source": [
    "visualize.plot_conv_weights(net.layers_['conv1'])"
   ]
  },
  {
   "cell_type": "code",
   "execution_count": 16,
   "metadata": {
    "collapsed": false
   },
   "outputs": [
    {
     "data": {
      "text/plain": [
       "<module 'matplotlib.pyplot' from '/home/cuda/anaconda2/lib/python2.7/site-packages/matplotlib/pyplot.pyc'>"
      ]
     },
     "execution_count": 16,
     "metadata": {},
     "output_type": "execute_result"
    },
    {
     "data": {
      "image/png": "[encoded data removed]",
      "text/plain": [
       "<matplotlib.figure.Figure at 0x7f8f009a6990>"
      ]
     },
     "metadata": {},
     "output_type": "display_data"
    }
   ],
   "source": [
    "visualize.plot_conv_activity(net.layers_['conv1'], test_x[i:i+1, :, :, :])"
   ]
  },
  {
   "cell_type": "code",
   "execution_count": null,
   "metadata": {
    "collapsed": true
   },
   "outputs": [],
   "source": []
  }
 ],
 "metadata": {
  "kernelspec": {
   "display_name": "Python 2",
   "language": "python",
   "name": "python2"
  },
  "language_info": {
   "codemirror_mode": {
    "name": "ipython",
    "version": 2
   },
   "file_extension": ".py",
   "mimetype": "text/x-python",
   "name": "python",
   "nbconvert_exporter": "python",
   "pygments_lexer": "ipython2",
   "version": "2.7.11"
  }
 },
 "nbformat": 4,
 "nbformat_minor": 0
}
